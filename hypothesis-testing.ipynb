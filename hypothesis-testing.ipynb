{
 "cells": [
  {
   "cell_type": "markdown",
   "id": "398d0d34",
   "metadata": {
    "papermill": {
     "duration": 0.009228,
     "end_time": "2025-08-15T16:01:53.294051",
     "exception": false,
     "start_time": "2025-08-15T16:01:53.284823",
     "status": "completed"
    },
    "tags": []
   },
   "source": [
    "# **Content:**\n",
    "- [Environment Preparation & Importing Data](#data-overview--statistical-summary)\n",
    "- [Exploratory Data Analysis:](#exploratory-data-analysis)\n",
    "    - [Data overview & Statistical summary](#data-overview--statistical-summary)\n",
    "    - [Null detection & 2 dataframes combination](#null-detection--2-dataframes-combination)\n",
    "    - [Test of normal distribution (QQ Plot and empirical rule test)](#testing-normal-distribution-qq-plot--empirical-rule)\n",
    "    - [Outliers detection and removal](#outlier-detection--removal)\n",
    "- [Hypothesis Testing:](#hypothesis-testing)\n",
    "    - [Two sample t-test](#two-sample-t-test)\n",
    "    - [One sample t-test](#one-sample-t-test)\n",
    "    - [One sample proportion z-test](#one-sample-proportion-z-test)\n",
    "    - [Two sample proportion z-test](#two-sample-proportion-z-test)"
   ]
  },
  {
   "cell_type": "markdown",
   "id": "508f8232",
   "metadata": {
    "papermill": {
     "duration": 0.006911,
     "end_time": "2025-08-15T16:01:53.309679",
     "exception": false,
     "start_time": "2025-08-15T16:01:53.302768",
     "status": "completed"
    },
    "tags": []
   },
   "source": [
    "# **Environment Preparation & Importing Data**"
   ]
  },
  {
   "cell_type": "code",
   "execution_count": null,
   "id": "3eb3f099",
   "metadata": {
    "execution": {
     "iopub.execute_input": "2025-08-15T16:01:53.325245Z",
     "iopub.status.busy": "2025-08-15T16:01:53.324831Z",
     "iopub.status.idle": "2025-08-15T16:01:56.730767Z",
     "shell.execute_reply": "2025-08-15T16:01:56.729483Z"
    },
    "papermill": {
     "duration": 3.416491,
     "end_time": "2025-08-15T16:01:56.733199",
     "exception": false,
     "start_time": "2025-08-15T16:01:53.316708",
     "status": "completed"
    },
    "tags": []
   },
   "outputs": [],
   "source": [
    "import os\n",
    "import numpy as np\n",
    "import pandas as pd\n",
    "from scipy import stats\n",
    "import matplotlib.pyplot as plt"
   ]
  },
  {
   "cell_type": "code",
   "execution_count": 16,
   "id": "2d055816",
   "metadata": {
    "execution": {
     "iopub.execute_input": "2025-08-15T16:01:56.761269Z",
     "iopub.status.busy": "2025-08-15T16:01:56.760564Z",
     "iopub.status.idle": "2025-08-15T16:01:56.806937Z",
     "shell.execute_reply": "2025-08-15T16:01:56.806098Z"
    },
    "papermill": {
     "duration": 0.062055,
     "end_time": "2025-08-15T16:01:56.808575",
     "exception": false,
     "start_time": "2025-08-15T16:01:56.746520",
     "status": "completed"
    },
    "tags": []
   },
   "outputs": [],
   "source": [
    "gender = pd.read_csv(\"Data/gender_submission.csv\")\n",
    "train = pd.read_csv(\"Data/train.csv\")\n",
    "test = pd.read_csv(\"Data/test.csv\")"
   ]
  },
  {
   "cell_type": "markdown",
   "id": "cd8a1e97",
   "metadata": {
    "papermill": {
     "duration": 0.00709,
     "end_time": "2025-08-15T16:01:56.823693",
     "exception": false,
     "start_time": "2025-08-15T16:01:56.816603",
     "status": "completed"
    },
    "tags": []
   },
   "source": [
    "# **Exploratory Data Analysis:**"
   ]
  },
  {
   "cell_type": "markdown",
   "id": "44bd6b25",
   "metadata": {
    "papermill": {
     "duration": 0.006997,
     "end_time": "2025-08-15T16:01:56.837838",
     "exception": false,
     "start_time": "2025-08-15T16:01:56.830841",
     "status": "completed"
    },
    "tags": []
   },
   "source": [
    "## **Data Overview & Statistical Summary**"
   ]
  },
  {
   "cell_type": "code",
   "execution_count": 3,
   "id": "d9d4705e",
   "metadata": {
    "execution": {
     "iopub.execute_input": "2025-08-15T16:01:56.853428Z",
     "iopub.status.busy": "2025-08-15T16:01:56.853085Z",
     "iopub.status.idle": "2025-08-15T16:01:56.873826Z",
     "shell.execute_reply": "2025-08-15T16:01:56.872493Z"
    },
    "papermill": {
     "duration": 0.030538,
     "end_time": "2025-08-15T16:01:56.875496",
     "exception": false,
     "start_time": "2025-08-15T16:01:56.844958",
     "status": "completed"
    },
    "tags": []
   },
   "outputs": [
    {
     "name": "stdout",
     "output_type": "stream",
     "text": [
      "   PassengerId  Survived\n",
      "0          892         0\n",
      "1          893         1\n",
      "2          894         0\n",
      "3          895         0\n",
      "4          896         1\n",
      "   PassengerId  Survived  Pclass  \\\n",
      "0            1         0       3   \n",
      "1            2         1       1   \n",
      "2            3         1       3   \n",
      "3            4         1       1   \n",
      "4            5         0       3   \n",
      "\n",
      "                                                Name     Sex   Age  SibSp  \\\n",
      "0                            Braund, Mr. Owen Harris    male  22.0      1   \n",
      "1  Cumings, Mrs. John Bradley (Florence Briggs Th...  female  38.0      1   \n",
      "2                             Heikkinen, Miss. Laina  female  26.0      0   \n",
      "3       Futrelle, Mrs. Jacques Heath (Lily May Peel)  female  35.0      1   \n",
      "4                           Allen, Mr. William Henry    male  35.0      0   \n",
      "\n",
      "   Parch            Ticket     Fare Cabin Embarked  \n",
      "0      0         A/5 21171   7.2500   NaN        S  \n",
      "1      0          PC 17599  71.2833   C85        C  \n",
      "2      0  STON/O2. 3101282   7.9250   NaN        S  \n",
      "3      0            113803  53.1000  C123        S  \n",
      "4      0            373450   8.0500   NaN        S  \n",
      "   PassengerId  Pclass                                          Name     Sex  \\\n",
      "0          892       3                              Kelly, Mr. James    male   \n",
      "1          893       3              Wilkes, Mrs. James (Ellen Needs)  female   \n",
      "2          894       2                     Myles, Mr. Thomas Francis    male   \n",
      "3          895       3                              Wirz, Mr. Albert    male   \n",
      "4          896       3  Hirvonen, Mrs. Alexander (Helga E Lindqvist)  female   \n",
      "\n",
      "    Age  SibSp  Parch   Ticket     Fare Cabin Embarked  \n",
      "0  34.5      0      0   330911   7.8292   NaN        Q  \n",
      "1  47.0      1      0   363272   7.0000   NaN        S  \n",
      "2  62.0      0      0   240276   9.6875   NaN        Q  \n",
      "3  27.0      0      0   315154   8.6625   NaN        S  \n",
      "4  22.0      1      1  3101298  12.2875   NaN        S  \n"
     ]
    }
   ],
   "source": [
    "print(gender.head(5))\n",
    "print(train.head(5))\n",
    "print(test.head(5))"
   ]
  },
  {
   "cell_type": "code",
   "execution_count": 4,
   "id": "47b31cd1",
   "metadata": {
    "execution": {
     "iopub.execute_input": "2025-08-15T16:01:56.891965Z",
     "iopub.status.busy": "2025-08-15T16:01:56.891601Z",
     "iopub.status.idle": "2025-08-15T16:01:56.939993Z",
     "shell.execute_reply": "2025-08-15T16:01:56.938759Z"
    },
    "papermill": {
     "duration": 0.059199,
     "end_time": "2025-08-15T16:01:56.942165",
     "exception": false,
     "start_time": "2025-08-15T16:01:56.882966",
     "status": "completed"
    },
    "tags": []
   },
   "outputs": [
    {
     "name": "stdout",
     "output_type": "stream",
     "text": [
      "Data Shape\n",
      "(891, 12)\n",
      "==================================================\n",
      "Data Overview\n",
      "<class 'pandas.core.frame.DataFrame'>\n",
      "RangeIndex: 891 entries, 0 to 890\n",
      "Data columns (total 12 columns):\n",
      " #   Column       Non-Null Count  Dtype  \n",
      "---  ------       --------------  -----  \n",
      " 0   PassengerId  891 non-null    int64  \n",
      " 1   Survived     891 non-null    int64  \n",
      " 2   Pclass       891 non-null    int64  \n",
      " 3   Name         891 non-null    object \n",
      " 4   Sex          891 non-null    object \n",
      " 5   Age          714 non-null    float64\n",
      " 6   SibSp        891 non-null    int64  \n",
      " 7   Parch        891 non-null    int64  \n",
      " 8   Ticket       891 non-null    object \n",
      " 9   Fare         891 non-null    float64\n",
      " 10  Cabin        204 non-null    object \n",
      " 11  Embarked     889 non-null    object \n",
      "dtypes: float64(2), int64(5), object(5)\n",
      "memory usage: 83.7+ KB\n",
      "None\n",
      "==================================================\n",
      "Data Statistical Summary\n",
      "       PassengerId    Survived      Pclass         Age       SibSp  \\\n",
      "count   891.000000  891.000000  891.000000  714.000000  891.000000   \n",
      "mean    446.000000    0.383838    2.308642   29.699118    0.523008   \n",
      "std     257.353842    0.486592    0.836071   14.526497    1.102743   \n",
      "min       1.000000    0.000000    1.000000    0.420000    0.000000   \n",
      "25%     223.500000    0.000000    2.000000   20.125000    0.000000   \n",
      "50%     446.000000    0.000000    3.000000   28.000000    0.000000   \n",
      "75%     668.500000    1.000000    3.000000   38.000000    1.000000   \n",
      "max     891.000000    1.000000    3.000000   80.000000    8.000000   \n",
      "\n",
      "            Parch        Fare  \n",
      "count  891.000000  891.000000  \n",
      "mean     0.381594   32.204208  \n",
      "std      0.806057   49.693429  \n",
      "min      0.000000    0.000000  \n",
      "25%      0.000000    7.910400  \n",
      "50%      0.000000   14.454200  \n",
      "75%      0.000000   31.000000  \n",
      "max      6.000000  512.329200  \n"
     ]
    }
   ],
   "source": [
    "print(\"Data Shape\")\n",
    "print(train.shape)\n",
    "print(\"=\"*50)\n",
    "print(\"Data Overview\")\n",
    "print(train.info())\n",
    "print(\"=\"*50)\n",
    "print(\"Data Statistical Summary\")\n",
    "print(train.describe())"
   ]
  },
  {
   "cell_type": "code",
   "execution_count": 5,
   "id": "91c4ea9d",
   "metadata": {
    "execution": {
     "iopub.execute_input": "2025-08-15T16:01:56.958551Z",
     "iopub.status.busy": "2025-08-15T16:01:56.958227Z",
     "iopub.status.idle": "2025-08-15T16:01:56.965951Z",
     "shell.execute_reply": "2025-08-15T16:01:56.965053Z"
    },
    "papermill": {
     "duration": 0.01777,
     "end_time": "2025-08-15T16:01:56.967577",
     "exception": false,
     "start_time": "2025-08-15T16:01:56.949807",
     "status": "completed"
    },
    "tags": []
   },
   "outputs": [
    {
     "data": {
      "text/plain": [
       "0"
      ]
     },
     "execution_count": 5,
     "metadata": {},
     "output_type": "execute_result"
    }
   ],
   "source": [
    "train[\"PassengerId\"].duplicated().sum()"
   ]
  },
  {
   "cell_type": "markdown",
   "id": "f5e2caea",
   "metadata": {
    "papermill": {
     "duration": 0.007214,
     "end_time": "2025-08-15T16:01:56.982406",
     "exception": false,
     "start_time": "2025-08-15T16:01:56.975192",
     "status": "completed"
    },
    "tags": []
   },
   "source": [
    "## **Null detection & 2 dataframes combination**"
   ]
  },
  {
   "cell_type": "code",
   "execution_count": 6,
   "id": "207b4c57",
   "metadata": {
    "execution": {
     "iopub.execute_input": "2025-08-15T16:01:56.998523Z",
     "iopub.status.busy": "2025-08-15T16:01:56.998196Z",
     "iopub.status.idle": "2025-08-15T16:01:57.004041Z",
     "shell.execute_reply": "2025-08-15T16:01:57.003101Z"
    },
    "papermill": {
     "duration": 0.015829,
     "end_time": "2025-08-15T16:01:57.005534",
     "exception": false,
     "start_time": "2025-08-15T16:01:56.989705",
     "status": "completed"
    },
    "tags": []
   },
   "outputs": [
    {
     "name": "stdout",
     "output_type": "stream",
     "text": [
      "Sample size = 891\n",
      "Number of null values = 177\n",
      "%19.87 of the data is null\n"
     ]
    }
   ],
   "source": [
    "print(f\"Sample size = {len(train)}\")\n",
    "print(f\"Number of null values = {train.Age.isna().sum()}\")\n",
    "print(f\"%{round((train.Age.isna().sum() / len(train)) * 100, 2)} of the data is null\")"
   ]
  },
  {
   "cell_type": "code",
   "execution_count": 7,
   "id": "db4744a8",
   "metadata": {
    "execution": {
     "iopub.execute_input": "2025-08-15T16:01:57.022412Z",
     "iopub.status.busy": "2025-08-15T16:01:57.022113Z",
     "iopub.status.idle": "2025-08-15T16:01:57.028422Z",
     "shell.execute_reply": "2025-08-15T16:01:57.027450Z"
    },
    "papermill": {
     "duration": 0.016315,
     "end_time": "2025-08-15T16:01:57.029816",
     "exception": false,
     "start_time": "2025-08-15T16:01:57.013501",
     "status": "completed"
    },
    "tags": []
   },
   "outputs": [
    {
     "name": "stdout",
     "output_type": "stream",
     "text": [
      "Sample size = 418\n",
      "NUll Values = 86\n",
      "%20.57 of the data is null\n"
     ]
    }
   ],
   "source": [
    "print(f\"Sample size = {len(test)}\")\n",
    "print(f\"NUll Values = {test.Age.isna().sum()}\")\n",
    "print(f\"%{round((test.Age.isna().sum() / len(test)) * 100, 2)} of the data is null\")"
   ]
  },
  {
   "cell_type": "code",
   "execution_count": 8,
   "id": "bff779b5",
   "metadata": {
    "execution": {
     "iopub.execute_input": "2025-08-15T16:01:57.046458Z",
     "iopub.status.busy": "2025-08-15T16:01:57.046169Z",
     "iopub.status.idle": "2025-08-15T16:01:57.057074Z",
     "shell.execute_reply": "2025-08-15T16:01:57.056127Z"
    },
    "papermill": {
     "duration": 0.021216,
     "end_time": "2025-08-15T16:01:57.058705",
     "exception": false,
     "start_time": "2025-08-15T16:01:57.037489",
     "status": "completed"
    },
    "tags": []
   },
   "outputs": [],
   "source": [
    "test2 = pd.merge(test, gender, on=\"PassengerId\")"
   ]
  },
  {
   "cell_type": "code",
   "execution_count": 9,
   "id": "5072fb20",
   "metadata": {
    "execution": {
     "iopub.execute_input": "2025-08-15T16:01:57.076548Z",
     "iopub.status.busy": "2025-08-15T16:01:57.076237Z",
     "iopub.status.idle": "2025-08-15T16:01:57.090852Z",
     "shell.execute_reply": "2025-08-15T16:01:57.089852Z"
    },
    "papermill": {
     "duration": 0.025931,
     "end_time": "2025-08-15T16:01:57.092491",
     "exception": false,
     "start_time": "2025-08-15T16:01:57.066560",
     "status": "completed"
    },
    "tags": []
   },
   "outputs": [
    {
     "name": "stdout",
     "output_type": "stream",
     "text": [
      "Sample Size = 1046\n",
      "NUll Values = 0\n"
     ]
    }
   ],
   "source": [
    "df1 = train[~train[\"Age\"].isna()]\n",
    "df2 = test2[~test2[\"Age\"].isna()]\n",
    "data = pd.concat([df1, df2], axis=0).reset_index()\n",
    "print(f\"Sample Size = {len(data)}\")\n",
    "print(f\"NUll Values = {data.Age.isna().sum()}\")"
   ]
  },
  {
   "cell_type": "markdown",
   "id": "370015a7",
   "metadata": {
    "papermill": {
     "duration": 0.007468,
     "end_time": "2025-08-15T16:01:57.107870",
     "exception": false,
     "start_time": "2025-08-15T16:01:57.100402",
     "status": "completed"
    },
    "tags": []
   },
   "source": [
    "## **Testing Normal Distribution (QQ Plot & Empirical Rule)**"
   ]
  },
  {
   "cell_type": "code",
   "execution_count": 10,
   "id": "3ecc6905",
   "metadata": {
    "execution": {
     "iopub.execute_input": "2025-08-15T16:01:57.191298Z",
     "iopub.status.busy": "2025-08-15T16:01:57.190955Z",
     "iopub.status.idle": "2025-08-15T16:01:57.469460Z",
     "shell.execute_reply": "2025-08-15T16:01:57.468560Z"
    },
    "papermill": {
     "duration": 0.3555,
     "end_time": "2025-08-15T16:01:57.471041",
     "exception": false,
     "start_time": "2025-08-15T16:01:57.115541",
     "status": "completed"
    },
    "tags": []
   },
   "outputs": [
    {
     "data": {
      "image/png": "[encoded data removed]",
      "text/plain": [
       "<Figure size 640x480 with 1 Axes>"
      ]
     },
     "metadata": {},
     "output_type": "display_data"
    }
   ],
   "source": [
    "stats.probplot(data[\"Age\"], dist=\"norm\", plot=plt)\n",
    "plt.title(\"QQ Plot\")\n",
    "plt.show()"
   ]
  },
  {
   "cell_type": "code",
   "execution_count": 11,
   "id": "2d96427b",
   "metadata": {
    "execution": {
     "iopub.execute_input": "2025-08-15T16:01:57.489475Z",
     "iopub.status.busy": "2025-08-15T16:01:57.489128Z",
     "iopub.status.idle": "2025-08-15T16:01:57.496713Z",
     "shell.execute_reply": "2025-08-15T16:01:57.495630Z"
    },
    "papermill": {
     "duration": 0.018724,
     "end_time": "2025-08-15T16:01:57.498384",
     "exception": false,
     "start_time": "2025-08-15T16:01:57.479660",
     "status": "completed"
    },
    "tags": []
   },
   "outputs": [],
   "source": [
    "data[\"zscores\"] = stats.zscore(data.Age)"
   ]
  },
  {
   "cell_type": "code",
   "execution_count": 12,
   "id": "65f79c08",
   "metadata": {
    "execution": {
     "iopub.execute_input": "2025-08-15T16:01:57.516496Z",
     "iopub.status.busy": "2025-08-15T16:01:57.516178Z",
     "iopub.status.idle": "2025-08-15T16:01:57.522446Z",
     "shell.execute_reply": "2025-08-15T16:01:57.521619Z"
    },
    "papermill": {
     "duration": 0.017146,
     "end_time": "2025-08-15T16:01:57.523818",
     "exception": false,
     "start_time": "2025-08-15T16:01:57.506672",
     "status": "completed"
    },
    "tags": []
   },
   "outputs": [
    {
     "data": {
      "text/plain": [
       "1046"
      ]
     },
     "execution_count": 12,
     "metadata": {},
     "output_type": "execute_result"
    }
   ],
   "source": [
    "len(data[\"zscores\"])"
   ]
  },
  {
   "cell_type": "code",
   "execution_count": 13,
   "id": "6149aa61",
   "metadata": {
    "execution": {
     "iopub.execute_input": "2025-08-15T16:01:57.541812Z",
     "iopub.status.busy": "2025-08-15T16:01:57.541533Z",
     "iopub.status.idle": "2025-08-15T16:01:57.562355Z",
     "shell.execute_reply": "2025-08-15T16:01:57.561370Z"
    },
    "papermill": {
     "duration": 0.031512,
     "end_time": "2025-08-15T16:01:57.563878",
     "exception": false,
     "start_time": "2025-08-15T16:01:57.532366",
     "status": "completed"
    },
    "tags": []
   },
   "outputs": [
    {
     "data": {
      "text/html": [
       "<div>\n",
       "<style scoped>\n",
       "    .dataframe tbody tr th:only-of-type {\n",
       "        vertical-align: middle;\n",
       "    }\n",
       "\n",
       "    .dataframe tbody tr th {\n",
       "        vertical-align: top;\n",
       "    }\n",
       "\n",
       "    .dataframe thead th {\n",
       "        text-align: right;\n",
       "    }\n",
       "</style>\n",
       "<table border=\"1\" class=\"dataframe\">\n",
       "  <thead>\n",
       "    <tr style=\"text-align: right;\">\n",
       "      <th></th>\n",
       "      <th>Standard Diviation</th>\n",
       "      <th>Percent</th>\n",
       "    </tr>\n",
       "  </thead>\n",
       "  <tbody>\n",
       "    <tr>\n",
       "      <th>0</th>\n",
       "      <td>One</td>\n",
       "      <td>72.179732</td>\n",
       "    </tr>\n",
       "    <tr>\n",
       "      <th>1</th>\n",
       "      <td>Two</td>\n",
       "      <td>93.785851</td>\n",
       "    </tr>\n",
       "    <tr>\n",
       "      <th>2</th>\n",
       "      <td>Three</td>\n",
       "      <td>99.713193</td>\n",
       "    </tr>\n",
       "  </tbody>\n",
       "</table>\n",
       "</div>"
      ],
      "text/plain": [
       "  Standard Diviation    Percent\n",
       "0                One  72.179732\n",
       "1                Two  93.785851\n",
       "2              Three  99.713193"
      ]
     },
     "execution_count": 13,
     "metadata": {},
     "output_type": "execute_result"
    }
   ],
   "source": [
    "percentage = [len(data[(data[\"zscores\"] >= -i) & (data[\"zscores\"] <= i)]) / len(data[\"zscores\"]) * 100 for i in range(1,4)]\n",
    "\n",
    "summary = pd.DataFrame({\n",
    "    \"Standard Diviation\": [\"One\", \"Two\", \"Three\"],\n",
    "    \"Percent\": percentage\n",
    "})\n",
    "\n",
    "summary"
   ]
  },
  {
   "cell_type": "markdown",
   "id": "70c0261a",
   "metadata": {
    "papermill": {
     "duration": 0.008612,
     "end_time": "2025-08-15T16:01:57.581414",
     "exception": false,
     "start_time": "2025-08-15T16:01:57.572802",
     "status": "completed"
    },
    "tags": []
   },
   "source": [
    "## **Outlier Detection & Removal**"
   ]
  },
  {
   "cell_type": "code",
   "execution_count": 14,
   "id": "21dc5ed7",
   "metadata": {
    "execution": {
     "iopub.execute_input": "2025-08-15T16:01:57.599653Z",
     "iopub.status.busy": "2025-08-15T16:01:57.599347Z",
     "iopub.status.idle": "2025-08-15T16:01:57.739490Z",
     "shell.execute_reply": "2025-08-15T16:01:57.738290Z"
    },
    "papermill": {
     "duration": 0.151607,
     "end_time": "2025-08-15T16:01:57.741429",
     "exception": false,
     "start_time": "2025-08-15T16:01:57.589822",
     "status": "completed"
    },
    "tags": []
   },
   "outputs": [
    {
     "data": {
      "image/png": "[encoded data removed]",
      "text/plain": [
       "<Figure size 640x480 with 1 Axes>"
      ]
     },
     "metadata": {},
     "output_type": "display_data"
    }
   ],
   "source": [
    "plt.title(\"Outliers\")\n",
    "plt.boxplot(data[\"Age\"])\n",
    "plt.show()"
   ]
  },
  {
   "cell_type": "code",
   "execution_count": 15,
   "id": "d813574d",
   "metadata": {
    "execution": {
     "iopub.execute_input": "2025-08-15T16:01:57.761050Z",
     "iopub.status.busy": "2025-08-15T16:01:57.760716Z",
     "iopub.status.idle": "2025-08-15T16:01:57.767841Z",
     "shell.execute_reply": "2025-08-15T16:01:57.766806Z"
    },
    "papermill": {
     "duration": 0.018793,
     "end_time": "2025-08-15T16:01:57.769414",
     "exception": false,
     "start_time": "2025-08-15T16:01:57.750621",
     "status": "completed"
    },
    "tags": []
   },
   "outputs": [],
   "source": [
    "titanic = data[~(data[\"zscores\"] > 3) | (data[\"zscores\"] < -3)].drop(columns=\"index\")"
   ]
  },
  {
   "cell_type": "code",
   "execution_count": 16,
   "id": "9653a8ed",
   "metadata": {
    "execution": {
     "iopub.execute_input": "2025-08-15T16:01:57.788728Z",
     "iopub.status.busy": "2025-08-15T16:01:57.788020Z",
     "iopub.status.idle": "2025-08-15T16:01:58.233867Z",
     "shell.execute_reply": "2025-08-15T16:01:58.232738Z"
    },
    "papermill": {
     "duration": 0.457141,
     "end_time": "2025-08-15T16:01:58.235543",
     "exception": false,
     "start_time": "2025-08-15T16:01:57.778402",
     "status": "completed"
    },
    "tags": []
   },
   "outputs": [
    {
     "data": {
      "image/png": "[encoded data removed]",
      "text/plain": [
       "<Figure size 1000x400 with 2 Axes>"
      ]
     },
     "metadata": {},
     "output_type": "display_data"
    }
   ],
   "source": [
    "fig, axes = plt.subplots(1, 2, figsize=(10, 4))\n",
    "\n",
    "axes[0].hist(titanic[\"Age\"])\n",
    "axes[0].set_title(\"Age Distribution\")\n",
    "\n",
    "stats.probplot(titanic[\"Age\"], dist=\"norm\", plot=axes[1])\n",
    "axes[1].set_title(\"QQ Plot\")\n",
    "\n",
    "plt.tight_layout()"
   ]
  },
  {
   "cell_type": "markdown",
   "id": "3f16bae3",
   "metadata": {
    "papermill": {
     "duration": 0.009162,
     "end_time": "2025-08-15T16:01:58.255456",
     "exception": false,
     "start_time": "2025-08-15T16:01:58.246294",
     "status": "completed"
    },
    "tags": []
   },
   "source": [
    "# **Hypothesis Testing**"
   ]
  },
  {
   "cell_type": "markdown",
   "id": "cdf20afa",
   "metadata": {
    "papermill": {
     "duration": 0.009429,
     "end_time": "2025-08-15T16:01:58.274363",
     "exception": false,
     "start_time": "2025-08-15T16:01:58.264934",
     "status": "completed"
    },
    "tags": []
   },
   "source": [
    "## **Two sample t-test**"
   ]
  },
  {
   "cell_type": "markdown",
   "id": "a83aabaa",
   "metadata": {
    "papermill": {
     "duration": 0.009772,
     "end_time": "2025-08-15T16:01:58.295289",
     "exception": false,
     "start_time": "2025-08-15T16:01:58.285517",
     "status": "completed"
    },
    "tags": []
   },
   "source": [
    "### **Request 1**\n",
    "\n",
    "$H_0: \\bar{x}_s = \\bar{x}_n$\n",
    "\n",
    "$H_a: \\bar{x}_s \\not= \\bar{x}_n$\n",
    "\n",
    "$\\alpha = 0.05$"
   ]
  },
  {
   "cell_type": "code",
   "execution_count": 17,
   "id": "ba9ae576",
   "metadata": {
    "execution": {
     "iopub.execute_input": "2025-08-15T16:01:58.316389Z",
     "iopub.status.busy": "2025-08-15T16:01:58.316080Z",
     "iopub.status.idle": "2025-08-15T16:01:58.321725Z",
     "shell.execute_reply": "2025-08-15T16:01:58.320740Z"
    },
    "papermill": {
     "duration": 0.018346,
     "end_time": "2025-08-15T16:01:58.323326",
     "exception": false,
     "start_time": "2025-08-15T16:01:58.304980",
     "status": "completed"
    },
    "tags": []
   },
   "outputs": [],
   "source": [
    "sur_ages = titanic[\"Age\"][titanic[\"Survived\"] == 1 ]\n",
    "non_sur_ages = titanic[\"Age\"][titanic[\"Survived\"] == 0 ]"
   ]
  },
  {
   "cell_type": "code",
   "execution_count": 18,
   "id": "d0d3018f",
   "metadata": {
    "execution": {
     "iopub.execute_input": "2025-08-15T16:01:58.344532Z",
     "iopub.status.busy": "2025-08-15T16:01:58.343638Z",
     "iopub.status.idle": "2025-08-15T16:01:58.352950Z",
     "shell.execute_reply": "2025-08-15T16:01:58.351985Z"
    },
    "papermill": {
     "duration": 0.021395,
     "end_time": "2025-08-15T16:01:58.354354",
     "exception": false,
     "start_time": "2025-08-15T16:01:58.332959",
     "status": "completed"
    },
    "tags": []
   },
   "outputs": [
    {
     "name": "stdout",
     "output_type": "stream",
     "text": [
      "\n",
      "t-stat  = -1.9198625772873636\n",
      "p-value = 0.05521147817069825\n",
      "\n"
     ]
    }
   ],
   "source": [
    "t_stat, p_value = stats.ttest_ind(sur_ages, non_sur_ages, equal_var=False)\n",
    "print(f'''\n",
    "t-stat  = {t_stat}\n",
    "p-value = {p_value}\n",
    "''')"
   ]
  },
  {
   "cell_type": "markdown",
   "id": "853b31da",
   "metadata": {
    "papermill": {
     "duration": 0.009404,
     "end_time": "2025-08-15T16:01:58.373550",
     "exception": false,
     "start_time": "2025-08-15T16:01:58.364146",
     "status": "completed"
    },
    "tags": []
   },
   "source": [
    "### **Interpretation**\n",
    "\n",
    "1- **Two-tailed test:**\n",
    "\n",
    "$p (0.055) > \\alpha (0.05)$\n",
    "\n",
    "**Failed to reject** the null hypothesis at 5% significance level, there's no statistically significantly enough evidence to say that that there was a difference in average age between survivors and non-survivors.\n",
    "\n",
    "---"
   ]
  },
  {
   "cell_type": "markdown",
   "id": "18b028dd",
   "metadata": {
    "papermill": {
     "duration": 0.009386,
     "end_time": "2025-08-15T16:01:58.392480",
     "exception": false,
     "start_time": "2025-08-15T16:01:58.383094",
     "status": "completed"
    },
    "tags": []
   },
   "source": [
    "## **One sample t-test**"
   ]
  },
  {
   "cell_type": "markdown",
   "id": "b795d25f",
   "metadata": {
    "papermill": {
     "duration": 0.009359,
     "end_time": "2025-08-15T16:01:58.411482",
     "exception": false,
     "start_time": "2025-08-15T16:01:58.402123",
     "status": "completed"
    },
    "tags": []
   },
   "source": [
    "### **Request 2**\n",
    "\n",
    "$H_0: \\mu = 30$\n",
    "\n",
    "$H_a: \\mu \\not= 30$\n",
    "\n",
    "$\\alpha = 0.05$"
   ]
  },
  {
   "cell_type": "code",
   "execution_count": 19,
   "id": "9f758d49",
   "metadata": {
    "execution": {
     "iopub.execute_input": "2025-08-15T16:01:58.431633Z",
     "iopub.status.busy": "2025-08-15T16:01:58.431367Z",
     "iopub.status.idle": "2025-08-15T16:01:58.438770Z",
     "shell.execute_reply": "2025-08-15T16:01:58.437658Z"
    },
    "papermill": {
     "duration": 0.019415,
     "end_time": "2025-08-15T16:01:58.440427",
     "exception": false,
     "start_time": "2025-08-15T16:01:58.421012",
     "status": "completed"
    },
    "tags": []
   },
   "outputs": [
    {
     "name": "stdout",
     "output_type": "stream",
     "text": [
      "\n",
      "t-stat  = -0.5758628383046217\n",
      "p-value = 0.5648322416700311\n",
      "\n"
     ]
    }
   ],
   "source": [
    "t_stat, p_value = stats.ttest_1samp(titanic[\"Age\"], 30, alternative=\"two-sided\")\n",
    "\n",
    "print(f'''\n",
    "t-stat  = {t_stat}\n",
    "p-value = {p_value}\n",
    "''')"
   ]
  },
  {
   "cell_type": "markdown",
   "id": "b56eda92",
   "metadata": {
    "papermill": {
     "duration": 0.009245,
     "end_time": "2025-08-15T16:01:58.459378",
     "exception": false,
     "start_time": "2025-08-15T16:01:58.450133",
     "status": "completed"
    },
    "tags": []
   },
   "source": [
    "### **Interpretation**\n",
    "\n",
    "**Two-tailed test:**\n",
    "\n",
    "$p (0.56) > \\alpha (0.05)$\n",
    "\n",
    "**Failed to reject** the null hypothesis, there's no enough statistically significant evidence to prove that the average age was not 30."
   ]
  },
  {
   "cell_type": "code",
   "execution_count": 20,
   "id": "984aac05",
   "metadata": {
    "execution": {
     "iopub.execute_input": "2025-08-15T16:01:58.479970Z",
     "iopub.status.busy": "2025-08-15T16:01:58.479655Z",
     "iopub.status.idle": "2025-08-15T16:01:58.670719Z",
     "shell.execute_reply": "2025-08-15T16:01:58.669836Z"
    },
    "papermill": {
     "duration": 0.203423,
     "end_time": "2025-08-15T16:01:58.672535",
     "exception": false,
     "start_time": "2025-08-15T16:01:58.469112",
     "status": "completed"
    },
    "tags": []
   },
   "outputs": [
    {
     "data": {
      "text/plain": [
       "Text(0.95, 0.95, 'p-value = 0.565\\nFail to reject H₀')"
      ]
     },
     "execution_count": 20,
     "metadata": {},
     "output_type": "execute_result"
    },
    {
     "data": {
      "image/png": "[encoded data removed]",
      "text/plain": [
       "<Figure size 640x480 with 1 Axes>"
      ]
     },
     "metadata": {},
     "output_type": "display_data"
    }
   ],
   "source": [
    "plt.hist(titanic[\"Age\"].dropna(), color=\"skyblue\")\n",
    "plt.axvline(30, color=\"red\", linestyle=\"--\")\n",
    "plt.text(\n",
    "    0.95, 0.95, \n",
    "    f\"p-value = {p_value:.3f}\\nFail to reject H₀\", \n",
    "    transform=plt.gca().transAxes, \n",
    "    ha=\"right\", \n",
    "    va=\"top\",\n",
    "    bbox=dict(facecolor=\"white\", alpha=0.8)\n",
    ")"
   ]
  },
  {
   "cell_type": "code",
   "execution_count": 21,
   "id": "8cfb42bb",
   "metadata": {
    "execution": {
     "iopub.execute_input": "2025-08-15T16:01:58.695949Z",
     "iopub.status.busy": "2025-08-15T16:01:58.695132Z",
     "iopub.status.idle": "2025-08-15T16:01:58.703016Z",
     "shell.execute_reply": "2025-08-15T16:01:58.702088Z"
    },
    "papermill": {
     "duration": 0.021406,
     "end_time": "2025-08-15T16:01:58.704644",
     "exception": false,
     "start_time": "2025-08-15T16:01:58.683238",
     "status": "completed"
    },
    "tags": []
   },
   "outputs": [
    {
     "data": {
      "text/plain": [
       "(28.88341487922581, 30.609720307734875)"
      ]
     },
     "execution_count": 21,
     "metadata": {},
     "output_type": "execute_result"
    }
   ],
   "source": [
    "stats.t.interval(0.95,\n",
    "                 df=len(titanic[\"Age\"]) - 1,\n",
    "                 loc=titanic[\"Age\"].mean(),\n",
    "                 scale=np.std(titanic[\"Age\"]) / np.sqrt(len(titanic[\"Age\"])))"
   ]
  },
  {
   "cell_type": "markdown",
   "id": "7e0d3dd8",
   "metadata": {
    "papermill": {
     "duration": 0.009865,
     "end_time": "2025-08-15T16:01:58.725867",
     "exception": false,
     "start_time": "2025-08-15T16:01:58.716002",
     "status": "completed"
    },
    "tags": []
   },
   "source": [
    "There's a %95 chance of getting the correct population age average in the confidence interval of [28.9, 30.6]\n",
    "\n",
    "---"
   ]
  },
  {
   "cell_type": "markdown",
   "id": "4292fad1",
   "metadata": {
    "papermill": {
     "duration": 0.009926,
     "end_time": "2025-08-15T16:01:58.746447",
     "exception": false,
     "start_time": "2025-08-15T16:01:58.736521",
     "status": "completed"
    },
    "tags": []
   },
   "source": [
    "## **One Sample Proportion z-test**"
   ]
  },
  {
   "cell_type": "markdown",
   "id": "de3755be",
   "metadata": {
    "papermill": {
     "duration": 0.00992,
     "end_time": "2025-08-15T16:01:58.766782",
     "exception": false,
     "start_time": "2025-08-15T16:01:58.756862",
     "status": "completed"
    },
    "tags": []
   },
   "source": [
    "### **Request 3**\n",
    "\n",
    "### **First Method: Using the mathematical equation**\n",
    "\n",
    "$H_0: P_0 = 0.65$\n",
    "\n",
    "$H_0: P_0 \\neq 0.65$\n",
    "\n",
    "$\\alpha = 0.05$\n",
    "\n",
    "$\\hat{P} = \\frac{x}{n}$\n",
    "\n",
    "$Z_s = \\frac{\\hat{P} - P_0}{\\sqrt{\\frac{P_0 \\cdot Q_0}{n}}}$\n",
    "\n"
   ]
  },
  {
   "cell_type": "code",
   "execution_count": 22,
   "id": "c7a38aeb",
   "metadata": {
    "execution": {
     "iopub.execute_input": "2025-08-15T16:01:58.789008Z",
     "iopub.status.busy": "2025-08-15T16:01:58.788267Z",
     "iopub.status.idle": "2025-08-15T16:01:58.796304Z",
     "shell.execute_reply": "2025-08-15T16:01:58.795300Z"
    },
    "papermill": {
     "duration": 0.020641,
     "end_time": "2025-08-15T16:01:58.797734",
     "exception": false,
     "start_time": "2025-08-15T16:01:58.777093",
     "status": "completed"
    },
    "tags": []
   },
   "outputs": [
    {
     "data": {
      "text/plain": [
       "array([3, 1, 2])"
      ]
     },
     "execution_count": 22,
     "metadata": {},
     "output_type": "execute_result"
    }
   ],
   "source": [
    "titanic.Pclass.unique()"
   ]
  },
  {
   "cell_type": "code",
   "execution_count": 23,
   "id": "cd4442f6",
   "metadata": {
    "execution": {
     "iopub.execute_input": "2025-08-15T16:01:58.819827Z",
     "iopub.status.busy": "2025-08-15T16:01:58.819547Z",
     "iopub.status.idle": "2025-08-15T16:01:58.825687Z",
     "shell.execute_reply": "2025-08-15T16:01:58.824657Z"
    },
    "papermill": {
     "duration": 0.019291,
     "end_time": "2025-08-15T16:01:58.827468",
     "exception": false,
     "start_time": "2025-08-15T16:01:58.808177",
     "status": "completed"
    },
    "tags": []
   },
   "outputs": [],
   "source": [
    "fc_ages = titanic[\"Age\"][titanic[\"Pclass\"] == 1]\n",
    "fc_survivors_ages = titanic[\"Age\"][(titanic[\"Pclass\"] == 1) & (titanic[\"Survived\"] == 1)]"
   ]
  },
  {
   "cell_type": "code",
   "execution_count": 24,
   "id": "cf0a3535",
   "metadata": {
    "execution": {
     "iopub.execute_input": "2025-08-15T16:01:58.849766Z",
     "iopub.status.busy": "2025-08-15T16:01:58.849498Z",
     "iopub.status.idle": "2025-08-15T16:01:58.858207Z",
     "shell.execute_reply": "2025-08-15T16:01:58.857033Z"
    },
    "papermill": {
     "duration": 0.022003,
     "end_time": "2025-08-15T16:01:58.859730",
     "exception": false,
     "start_time": "2025-08-15T16:01:58.837727",
     "status": "completed"
    },
    "tags": []
   },
   "outputs": [
    {
     "name": "stdout",
     "output_type": "stream",
     "text": [
      "z statistic = 1.91\n",
      "z critical  = 1.96\n",
      "p-value     = 0.056\n"
     ]
    }
   ],
   "source": [
    "p_hat = len(fc_survivors_ages) / len(fc_ages)\n",
    "Z_stat = (p_hat - 0.65) / (np.sqrt((0.65 * (1 - 0.65)) / len(fc_ages)))\n",
    "z_crit = stats.norm.ppf(1 - (0.05/2))\n",
    "p_value = 2 * (1 - stats.norm.cdf(abs(Z_stat)))\n",
    "\n",
    "print(f\"z statistic = {round(abs(Z_stat), 2)}\")\n",
    "print(f\"z critical  = {round(z_crit, 2)}\")\n",
    "print(f\"p-value     = {round(p_value, 3)}\")"
   ]
  },
  {
   "cell_type": "markdown",
   "id": "a96afc8a",
   "metadata": {
    "papermill": {
     "duration": 0.01015,
     "end_time": "2025-08-15T16:01:58.880396",
     "exception": false,
     "start_time": "2025-08-15T16:01:58.870246",
     "status": "completed"
    },
    "tags": []
   },
   "source": [
    "### **Alternative Method: Using `proportions_ztest` from `statsmodels.stats.proportion`**"
   ]
  },
  {
   "cell_type": "code",
   "execution_count": 25,
   "id": "7e3420af",
   "metadata": {
    "execution": {
     "iopub.execute_input": "2025-08-15T16:01:58.902542Z",
     "iopub.status.busy": "2025-08-15T16:01:58.902236Z",
     "iopub.status.idle": "2025-08-15T16:01:59.115089Z",
     "shell.execute_reply": "2025-08-15T16:01:59.113956Z"
    },
    "papermill": {
     "duration": 0.225934,
     "end_time": "2025-08-15T16:01:59.116703",
     "exception": false,
     "start_time": "2025-08-15T16:01:58.890769",
     "status": "completed"
    },
    "tags": []
   },
   "outputs": [
    {
     "name": "stdout",
     "output_type": "stream",
     "text": [
      "Historical Proportion = 0.65\n",
      "z statistic = 1.91\n",
      "z critical  = 1.96\n",
      "p-value     = 0.056\n"
     ]
    }
   ],
   "source": [
    "from statsmodels.stats.proportion import proportions_ztest\n",
    "\n",
    "z_stats4, p_value4 = proportions_ztest(count=len(fc_survivors_ages),\n",
    "                                        value=0.65,\n",
    "                                        prop_var=0.65,\n",
    "                                        nobs=len(fc_ages),\n",
    "                                        alternative=\"two-sided\")\n",
    "\n",
    "print(\"Historical Proportion = 0.65\")\n",
    "print(f\"z statistic = {round(abs(z_stats4), 2)}\")\n",
    "print(f\"z critical  = {round(z_crit, 2)}\")\n",
    "print(f\"p-value     = {round(p_value4, 3)}\")"
   ]
  },
  {
   "cell_type": "markdown",
   "id": "ebf0c1a8",
   "metadata": {
    "papermill": {
     "duration": 0.011231,
     "end_time": "2025-08-15T16:01:59.138336",
     "exception": false,
     "start_time": "2025-08-15T16:01:59.127105",
     "status": "completed"
    },
    "tags": []
   },
   "source": [
    "### **Interpretation**\n",
    "\n",
    "$p(0.056) > \\alpha(0.05)$\n",
    "\n",
    "$Z_s(1.91) < Z_c(1.96)$\n",
    "\n",
    "At the 0.05 significance level, we **fail to reject** the null hypothesis. The data does not provide sufficient statistical evidence to conclude that the survival rate of first-class passengers on the Titanic was different from 65%. In other words, based on our sample, the observed survival proportion is consistent with the historical claim of 65%.\n",
    "\n",
    "---"
   ]
  },
  {
   "cell_type": "markdown",
   "id": "a52765bd",
   "metadata": {
    "papermill": {
     "duration": 0.009801,
     "end_time": "2025-08-15T16:01:59.158326",
     "exception": false,
     "start_time": "2025-08-15T16:01:59.148525",
     "status": "completed"
    },
    "tags": []
   },
   "source": [
    "## **Two Sample Proportion z-test**"
   ]
  },
  {
   "cell_type": "markdown",
   "id": "e6e529a6",
   "metadata": {
    "papermill": {
     "duration": 0.009896,
     "end_time": "2025-08-15T16:01:59.178201",
     "exception": false,
     "start_time": "2025-08-15T16:01:59.168305",
     "status": "completed"
    },
    "tags": []
   },
   "source": [
    "### **Request 4**\n",
    "\n",
    "### **First Method: Using the mathematical equation**\n",
    "\n",
    "$H_0: \\hat{p}_m = \\hat{p}_f$\n",
    "\n",
    "$H_a: \\hat{p}_m \\neq \\hat{p}_f$\n",
    "\n",
    "$\\alpha = 0.05$\n",
    "\n",
    "$p_0 = \\frac{x_m + x_f}{n_m + n_f}$\n",
    "\n",
    "$Z_s = \\frac{p_m - p_f}{\\sqrt{p_0 \\cdot q_0 (\\frac{1}{n_m} + \\frac{1}{n_f})}}$"
   ]
  },
  {
   "cell_type": "code",
   "execution_count": 26,
   "id": "16f15a00",
   "metadata": {
    "execution": {
     "iopub.execute_input": "2025-08-15T16:01:59.199456Z",
     "iopub.status.busy": "2025-08-15T16:01:59.199144Z",
     "iopub.status.idle": "2025-08-15T16:01:59.207307Z",
     "shell.execute_reply": "2025-08-15T16:01:59.206347Z"
    },
    "papermill": {
     "duration": 0.020512,
     "end_time": "2025-08-15T16:01:59.208683",
     "exception": false,
     "start_time": "2025-08-15T16:01:59.188171",
     "status": "completed"
    },
    "tags": []
   },
   "outputs": [
    {
     "name": "stdout",
     "output_type": "stream",
     "text": [
      "Sample size removed null ages = 1043\n",
      "New sample size               = 1309\n"
     ]
    }
   ],
   "source": [
    "survival_gender = pd.concat([train,test])[[\"Sex\", \"Survived\"]]\n",
    "\n",
    "print(f\"Sample size removed null ages = {len(titanic)}\")\n",
    "print(f\"New sample size               = {len(survival_gender)}\")"
   ]
  },
  {
   "cell_type": "code",
   "execution_count": 27,
   "id": "2f5c15b3",
   "metadata": {
    "execution": {
     "iopub.execute_input": "2025-08-15T16:01:59.231160Z",
     "iopub.status.busy": "2025-08-15T16:01:59.230784Z",
     "iopub.status.idle": "2025-08-15T16:01:59.244148Z",
     "shell.execute_reply": "2025-08-15T16:01:59.242740Z"
    },
    "papermill": {
     "duration": 0.026538,
     "end_time": "2025-08-15T16:01:59.245807",
     "exception": false,
     "start_time": "2025-08-15T16:01:59.219269",
     "status": "completed"
    },
    "tags": []
   },
   "outputs": [
    {
     "name": "stdout",
     "output_type": "stream",
     "text": [
      "Proportion of survived male passengers   = 0.13\n",
      "Proportion of survived female passengers = 0.5\n",
      "z statistic = 14.62\n",
      "z critical  = 1.96\n",
      "p-value     = 0.0\n"
     ]
    }
   ],
   "source": [
    "male = len(survival_gender[survival_gender[\"Sex\"] == \"male\"])\n",
    "female = len(survival_gender[survival_gender[\"Sex\"] == \"female\"])\n",
    "\n",
    "male_sur = len(survival_gender[(survival_gender[\"Sex\"] == \"male\") & (survival_gender[\"Survived\"] == 1)])\n",
    "female_sur = len(survival_gender[(survival_gender[\"Sex\"] == \"female\") & (survival_gender[\"Survived\"] == 1)])\n",
    "\n",
    "p_m = male_sur / male\n",
    "p_f = female_sur / female \n",
    "p_0 = (male_sur + female_sur) / (male + female)\n",
    "\n",
    "Z_stat2 = (p_m - p_f) / (np.sqrt(p_0 * (1 - p_0) * ((1/male) + (1/female))))\n",
    "z_crit2 = stats.norm.ppf(1 - 0.05/2)\n",
    "p_value2 = 2 * (1 - stats.norm.cdf(abs(Z_stat2)))\n",
    "\n",
    "print(f\"Proportion of survived male passengers   = {round(p_m, 2)}\")\n",
    "print(f\"Proportion of survived female passengers = {round(p_f, 2)}\")\n",
    "print(f\"z statistic = {round(abs(Z_stat2), 2)}\")\n",
    "print(f\"z critical  = {round(z_crit2, 2)}\")\n",
    "print(f\"p-value     = {p_value2}\")"
   ]
  },
  {
   "cell_type": "markdown",
   "id": "45334dec",
   "metadata": {
    "papermill": {
     "duration": 0.010014,
     "end_time": "2025-08-15T16:01:59.266388",
     "exception": false,
     "start_time": "2025-08-15T16:01:59.256374",
     "status": "completed"
    },
    "tags": []
   },
   "source": [
    "### **Alternative Method: Using `proportions_ztest` from `statsmodels.stats.proportion`**"
   ]
  },
  {
   "cell_type": "code",
   "execution_count": 28,
   "id": "3dfca9d5",
   "metadata": {
    "execution": {
     "iopub.execute_input": "2025-08-15T16:01:59.288343Z",
     "iopub.status.busy": "2025-08-15T16:01:59.288027Z",
     "iopub.status.idle": "2025-08-15T16:01:59.297705Z",
     "shell.execute_reply": "2025-08-15T16:01:59.296398Z"
    },
    "papermill": {
     "duration": 0.022625,
     "end_time": "2025-08-15T16:01:59.299496",
     "exception": false,
     "start_time": "2025-08-15T16:01:59.276871",
     "status": "completed"
    },
    "tags": []
   },
   "outputs": [
    {
     "name": "stdout",
     "output_type": "stream",
     "text": [
      "Proportion of survived male   = 0.13\n",
      "Proportion of survived female = 0.5\n",
      "z statistic = 14.62\n",
      "z critical  = 1.96\n",
      "p-value     = 2.172720641443993e-48\n"
     ]
    }
   ],
   "source": [
    "z_stats3, p_value3 = proportions_ztest(count=[male_sur,female_sur],\n",
    "                                        nobs=[male,female],\n",
    "                                        alternative=\"two-sided\")\n",
    "\n",
    "print(f\"Proportion of survived male   = {round(p_m, 2)}\")\n",
    "print(f\"Proportion of survived female = {round(p_f, 2)}\")\n",
    "print(f\"z statistic = {round(abs(z_stats3), 2)}\")\n",
    "print(f\"z critical  = {round(z_crit2, 2)}\")\n",
    "print(f\"p-value     = {p_value3}\")"
   ]
  },
  {
   "cell_type": "code",
   "execution_count": 29,
   "id": "3ed128f1",
   "metadata": {
    "execution": {
     "iopub.execute_input": "2025-08-15T16:01:59.321866Z",
     "iopub.status.busy": "2025-08-15T16:01:59.321573Z",
     "iopub.status.idle": "2025-08-15T16:01:59.523831Z",
     "shell.execute_reply": "2025-08-15T16:01:59.522987Z"
    },
    "papermill": {
     "duration": 0.215237,
     "end_time": "2025-08-15T16:01:59.525438",
     "exception": false,
     "start_time": "2025-08-15T16:01:59.310201",
     "status": "completed"
    },
    "tags": []
   },
   "outputs": [
    {
     "data": {
      "image/png": "[encoded data removed]",
      "text/plain": [
       "<Figure size 640x480 with 1 Axes>"
      ]
     },
     "metadata": {},
     "output_type": "display_data"
    }
   ],
   "source": [
    "survivors = titanic[\"Sex\"][titanic[\"Survived\"] == 1]\n",
    "gender_comparason = survivors.value_counts()\n",
    "\n",
    "plt.title(\"Survived Male vs. Female Pssengers\")\n",
    "plt.pie(gender_comparason,\n",
    "        labels=gender_comparason.index,\n",
    "        startangle=90,\n",
    "        colors=[\"pink\", \"lightblue\"])\n",
    "plt.show()"
   ]
  },
  {
   "cell_type": "markdown",
   "id": "17587003",
   "metadata": {
    "papermill": {
     "duration": 0.010556,
     "end_time": "2025-08-15T16:01:59.546958",
     "exception": false,
     "start_time": "2025-08-15T16:01:59.536402",
     "status": "completed"
    },
    "tags": []
   },
   "source": [
    "### **Interpretation**\n",
    "\n",
    "$p-value < \\alpha(0.05)$\n",
    "\n",
    "$Z_s(14.62) > Z_c(1.96)$\n",
    "\n",
    "There's a **very strong** statistical evidence that there was a difference in survival rate between men and women from the titanic disaster. In fact, the survival rate of women was massive compared to men's, so that we **reject** the null hypothesis."
   ]
  }
 ],
 "metadata": {
  "kaggle": {
   "accelerator": "none",
   "dataSources": [
    {
     "databundleVersionId": 26502,
     "sourceId": 3136,
     "sourceType": "competition"
    }
   ],
   "dockerImageVersionId": 31089,
   "isGpuEnabled": false,
   "isInternetEnabled": true,
   "language": "python",
   "sourceType": "notebook"
  },
  "kernelspec": {
   "display_name": "Python 3",
   "language": "python",
   "name": "python3"
  },
  "language_info": {
   "codemirror_mode": {
    "name": "ipython",
    "version": 3
   },
   "file_extension": ".py",
   "mimetype": "text/x-python",
   "name": "python",
   "nbconvert_exporter": "python",
   "pygments_lexer": "ipython3",
   "version": "3.13.5"
  },
  "papermill": {
   "default_parameters": {},
   "duration": 12.01779,
   "end_time": "2025-08-15T16:02:00.278200",
   "environment_variables": {},
   "exception": null,
   "input_path": "__notebook__.ipynb",
   "output_path": "__notebook__.ipynb",
   "parameters": {},
   "start_time": "2025-08-15T16:01:48.260410",
   "version": "2.6.0"
  }
 },
 "nbformat": 4,
 "nbformat_minor": 5
}
